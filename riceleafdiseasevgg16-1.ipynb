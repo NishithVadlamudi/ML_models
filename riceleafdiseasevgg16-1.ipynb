{
 "cells": [
  {
   "cell_type": "code",
   "execution_count": 1,
   "metadata": {
    "_cell_guid": "b1076dfc-b9ad-4769-8c92-a6c4dae69d19",
    "_uuid": "8f2839f25d086af736a60e9eeb907d3b93b6e0e5"
   },
   "outputs": [
    {
     "name": "stderr",
     "output_type": "stream",
     "text": [
      "Using TensorFlow backend.\n"
     ]
    },
    {
     "name": "stdout",
     "output_type": "stream",
     "text": [
      "Downloading data from https://github.com/fchollet/deep-learning-models/releases/download/v0.1/vgg16_weights_tf_dim_ordering_tf_kernels_notop.h5\n",
      "58892288/58889256 [==============================] - 5s 0us/step\n"
     ]
    }
   ],
   "source": [
    "from keras.applications import VGG16\n",
    "#Load the VGG model\n",
    "vgg_conv = VGG16(weights='imagenet', include_top=False, input_shape=(224, 224, 3))"
   ]
  },
  {
   "cell_type": "code",
   "execution_count": 2,
   "metadata": {},
   "outputs": [],
   "source": [
    "from keras.preprocessing.image import ImageDataGenerator"
   ]
  },
  {
   "cell_type": "code",
   "execution_count": 13,
   "metadata": {},
   "outputs": [
    {
     "name": "stdout",
     "output_type": "stream",
     "text": [
      "<keras.engine.input_layer.InputLayer object at 0x7f8c3dc452b0> False\n",
      "<keras.layers.convolutional.Conv2D object at 0x7f8bf500b470> False\n",
      "<keras.layers.convolutional.Conv2D object at 0x7f8bf50171d0> False\n",
      "<keras.layers.pooling.MaxPooling2D object at 0x7f8bf5017c88> False\n",
      "<keras.layers.convolutional.Conv2D object at 0x7f8bf47c5668> False\n",
      "<keras.layers.convolutional.Conv2D object at 0x7f8bf477a160> False\n",
      "<keras.layers.pooling.MaxPooling2D object at 0x7f8bf477aa90> False\n",
      "<keras.layers.convolutional.Conv2D object at 0x7f8bf47950f0> False\n",
      "<keras.layers.convolutional.Conv2D object at 0x7f8bf47b3ac8> False\n",
      "<keras.layers.convolutional.Conv2D object at 0x7f8bf4747c18> False\n",
      "<keras.layers.pooling.MaxPooling2D object at 0x7f8bf4760f60> False\n",
      "<keras.layers.convolutional.Conv2D object at 0x7f8bf46fb6d8> False\n",
      "<keras.layers.convolutional.Conv2D object at 0x7f8bf472d390> False\n",
      "<keras.layers.convolutional.Conv2D object at 0x7f8bf472dc18> False\n",
      "<keras.layers.pooling.MaxPooling2D object at 0x7f8bf46e6be0> False\n",
      "<keras.layers.convolutional.Conv2D object at 0x7f8bf46e6240> True\n",
      "<keras.layers.convolutional.Conv2D object at 0x7f8bf4697710> True\n",
      "<keras.layers.convolutional.Conv2D object at 0x7f8bf46b59e8> True\n",
      "<keras.layers.pooling.MaxPooling2D object at 0x7f8bf464c5c0> True\n"
     ]
    }
   ],
   "source": [
    "for layer in vgg_conv.layers[:-4]:\n",
    "    layer.trainable = False\n",
    " \n",
    "# Check the trainable status of the individual layers\n",
    "for layer in vgg_conv.layers:\n",
    "    print(layer, layer.trainable)"
   ]
  },
  {
   "cell_type": "code",
   "execution_count": 14,
   "metadata": {},
   "outputs": [
    {
     "name": "stdout",
     "output_type": "stream",
     "text": [
      "_________________________________________________________________\n",
      "Layer (type)                 Output Shape              Param #   \n",
      "=================================================================\n",
      "vgg16 (Model)                (None, 7, 7, 512)         14714688  \n",
      "_________________________________________________________________\n",
      "flatten_2 (Flatten)          (None, 25088)             0         \n",
      "_________________________________________________________________\n",
      "dense_4 (Dense)              (None, 1024)              25691136  \n",
      "_________________________________________________________________\n",
      "dense_5 (Dense)              (None, 512)               524800    \n",
      "_________________________________________________________________\n",
      "dropout_2 (Dropout)          (None, 512)               0         \n",
      "_________________________________________________________________\n",
      "dense_6 (Dense)              (None, 4)                 2052      \n",
      "=================================================================\n",
      "Total params: 40,932,676\n",
      "Trainable params: 33,297,412\n",
      "Non-trainable params: 7,635,264\n",
      "_________________________________________________________________\n"
     ]
    }
   ],
   "source": [
    "from keras import models\n",
    "from keras import layers\n",
    "from keras import optimizers\n",
    " \n",
    "# Create the model\n",
    "model = models.Sequential()\n",
    " \n",
    "# Add the vgg convolutional base model\n",
    "model.add(vgg_conv)\n",
    " \n",
    "# Add new layers\n",
    "model.add(layers.Flatten())\n",
    "model.add(layers.Dense(1024, activation='relu'))\n",
    "model.add(layers.Dense(512, activation='relu'))\n",
    "model.add(layers.Dropout(0.5))\n",
    "model.add(layers.Dense(4, activation='softmax'))\n",
    " \n",
    "# Show a summary of the model. Check the number of trainable parameters\n",
    "model.summary()"
   ]
  },
  {
   "cell_type": "code",
   "execution_count": 15,
   "metadata": {},
   "outputs": [],
   "source": [
    "train_dir = '../input/LabelledRice/Labelled'\n",
    "validation_dir = '../input/LabelledRice/Labelled'"
   ]
  },
  {
   "cell_type": "code",
   "execution_count": 16,
   "metadata": {},
   "outputs": [
    {
     "data": {
      "text/plain": [
       "['LeafBlast', 'BrownSpot', 'Hispa', 'Healthy']"
      ]
     },
     "execution_count": 16,
     "metadata": {},
     "output_type": "execute_result"
    }
   ],
   "source": [
    "import os\n",
    "os.listdir('../input/LabelledRice/Labelled')"
   ]
  },
  {
   "cell_type": "code",
   "execution_count": 24,
   "metadata": {},
   "outputs": [
    {
     "name": "stdout",
     "output_type": "stream",
     "text": [
      "Found 2686 images belonging to 4 classes.\n",
      "Found 669 images belonging to 4 classes.\n"
     ]
    }
   ],
   "source": [
    "train_datagen = ImageDataGenerator(\n",
    "    rescale=1./255,\n",
    "    rotation_range=20,\n",
    "    width_shift_range=0.2,\n",
    "    height_shift_range=0.2,\n",
    "    horizontal_flip=True,\n",
    "    fill_mode='nearest',\n",
    "    validation_split=0.2\n",
    ")\n",
    " \n",
    "train_generator = train_datagen.flow_from_directory(\n",
    "    train_dir,\n",
    "    target_size=(224, 224),\n",
    "    batch_size=16,\n",
    "    subset='training',\n",
    "    class_mode='categorical') # set as training data\n",
    "\n",
    "validation_generator = train_datagen.flow_from_directory(\n",
    "    train_dir, # same directory as training data\n",
    "    target_size=(224, 224),\n",
    "    batch_size=10,\n",
    "    subset='validation',\n",
    "    class_mode='categorical')"
   ]
  },
  {
   "cell_type": "code",
   "execution_count": 18,
   "metadata": {},
   "outputs": [
    {
     "name": "stdout",
     "output_type": "stream",
     "text": [
      "{'BrownSpot': 0, 'Healthy': 1, 'Hispa': 2, 'LeafBlast': 3}\n"
     ]
    }
   ],
   "source": [
    "print(train_generator.class_indices)"
   ]
  },
  {
   "cell_type": "code",
   "execution_count": null,
   "metadata": {},
   "outputs": [
    {
     "name": "stdout",
     "output_type": "stream",
     "text": [
      "Epoch 1/30\n",
      "168/167 [==============================] - 332s 2s/step - loss: 0.7714 - acc: 0.7257\n",
      "Epoch 2/30\n",
      "168/167 [==============================] - 341s 2s/step - loss: 0.7547 - acc: 0.7315\n",
      "Epoch 3/30\n",
      "168/167 [==============================] - 329s 2s/step - loss: 0.7322 - acc: 0.7432\n",
      "Epoch 4/30\n",
      "168/167 [==============================] - 323s 2s/step - loss: 0.7622 - acc: 0.7398\n",
      "Epoch 5/30\n",
      "168/167 [==============================] - 322s 2s/step - loss: 0.6897 - acc: 0.7600\n",
      "Epoch 6/30\n",
      "168/167 [==============================] - 320s 2s/step - loss: 0.7278 - acc: 0.7442\n",
      "Epoch 7/30\n",
      "168/167 [==============================] - 325s 2s/step - loss: 0.7192 - acc: 0.7514\n",
      "Epoch 8/30\n",
      "168/167 [==============================] - 324s 2s/step - loss: 0.6860 - acc: 0.7554\n",
      "Epoch 9/30\n",
      "168/167 [==============================] - 323s 2s/step - loss: 0.6934 - acc: 0.7417\n",
      "Epoch 10/30\n",
      "168/167 [==============================] - 323s 2s/step - loss: 0.7150 - acc: 0.7561\n",
      "Epoch 11/30\n",
      "168/167 [==============================] - 334s 2s/step - loss: 0.6971 - acc: 0.7498\n",
      "Epoch 12/30\n",
      "168/167 [==============================] - 340s 2s/step - loss: 0.7026 - acc: 0.7563\n",
      "Epoch 13/30\n",
      "168/167 [==============================] - 333s 2s/step - loss: 0.6933 - acc: 0.7467\n",
      "Epoch 14/30\n",
      "168/167 [==============================] - 324s 2s/step - loss: 0.7066 - acc: 0.7534\n",
      "Epoch 15/30\n",
      "168/167 [==============================] - 317s 2s/step - loss: 0.6777 - acc: 0.7640\n",
      "Epoch 16/30\n",
      "127/167 [=====================>........] - ETA: 1:16 - loss: 0.7071 - acc: 0.7549"
     ]
    }
   ],
   "source": [
    "# Compile the model\n",
    "model.compile(loss='categorical_crossentropy',\n",
    "              optimizer=optimizers.RMSprop(lr=1e-4),\n",
    "              metrics=['acc'])\n",
    "# Train the model\n",
    "history = model.fit_generator(\n",
    "      train_generator,\n",
    "      steps_per_epoch=train_generator.samples/train_generator.batch_size ,\n",
    "      epochs=30,\n",
    "      verbose=1)"
   ]
  },
  {
   "cell_type": "code",
   "execution_count": null,
   "metadata": {},
   "outputs": [],
   "source": []
  }
 ],
 "metadata": {
  "kernelspec": {
   "display_name": "Python 3",
   "language": "python",
   "name": "python3"
  },
  "language_info": {
   "codemirror_mode": {
    "name": "ipython",
    "version": 3
   },
   "file_extension": ".py",
   "mimetype": "text/x-python",
   "name": "python",
   "nbconvert_exporter": "python",
   "pygments_lexer": "ipython3",
   "version": "3.7.6"
  }
 },
 "nbformat": 4,
 "nbformat_minor": 1
}
